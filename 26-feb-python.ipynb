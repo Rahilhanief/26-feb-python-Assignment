{
 "cells": [
  {
   "cell_type": "code",
   "execution_count": 31,
   "id": "787d6cc5-3a37-48d7-87bd-1d8a00437907",
   "metadata": {},
   "outputs": [],
   "source": [
    "## Q NO. 1 :\n",
    "import numpy as np\n",
    "list_ = ['1','2','3','4','5']\n",
    "array_list = np.array(object = list_)"
   ]
  },
  {
   "cell_type": "code",
   "execution_count": 35,
   "id": "bd2e31e9-52ee-4b5c-af42-33b5231959fd",
   "metadata": {},
   "outputs": [
    {
     "data": {
      "text/plain": [
       "dtype('<U1')"
      ]
     },
     "execution_count": 35,
     "metadata": {},
     "output_type": "execute_result"
    }
   ],
   "source": [
    "# dtype of arraarray_list\n",
    "array_list.dtype"
   ]
  },
  {
   "cell_type": "code",
   "execution_count": 36,
   "id": "2e1f1dee-929b-458e-817d-771e2b8f008d",
   "metadata": {},
   "outputs": [
    {
     "name": "stdout",
     "output_type": "stream",
     "text": [
      "<class 'str'>\n",
      "<class 'str'>\n",
      "<class 'str'>\n",
      "<class 'str'>\n",
      "<class 'str'>\n"
     ]
    }
   ],
   "source": [
    "# dtype of list_\n",
    "for i in list_ :\n",
    "    print(type(i))"
   ]
  },
  {
   "cell_type": "code",
   "execution_count": 20,
   "id": "fba7292a-50a9-4c4b-8a87-475eb82a0aae",
   "metadata": {},
   "outputs": [],
   "source": [
    "#  Datatype of list_ is string and datatype of array_list is uint8  "
   ]
  },
  {
   "cell_type": "code",
   "execution_count": 22,
   "id": "b581496f-5106-4c00-8a33-608836323d58",
   "metadata": {},
   "outputs": [
    {
     "name": "stdout",
     "output_type": "stream",
     "text": [
      "[[<class 'str'>, <class 'str'>, <class 'str'>, <class 'str'>, <class 'str'>]]\n"
     ]
    }
   ],
   "source": [
    "## Q No. 2 :\n",
    "iterable=[type(i) for i in list_]\n",
    "print([iterable])"
   ]
  },
  {
   "cell_type": "code",
   "execution_count": 34,
   "id": "d6a1ae2e-2930-4d93-9635-17b3060d1121",
   "metadata": {},
   "outputs": [
    {
     "name": "stdout",
     "output_type": "stream",
     "text": [
      "<class 'numpy.str_'>\n",
      "<class 'numpy.str_'>\n",
      "<class 'numpy.str_'>\n",
      "<class 'numpy.str_'>\n",
      "<class 'numpy.str_'>\n"
     ]
    }
   ],
   "source": [
    "for i in array_list :\n",
    "    print (type(i))"
   ]
  },
  {
   "cell_type": "code",
   "execution_count": 37,
   "id": "c8af5420-84b2-46f5-9f90-67acb031f19b",
   "metadata": {},
   "outputs": [],
   "source": [
    "## Q No.3 :\n",
    "array_list=  np.array(object = list_, dtype = int)"
   ]
  },
  {
   "cell_type": "code",
   "execution_count": 38,
   "id": "4a58f559-26a5-46e9-9c48-ad636a637914",
   "metadata": {},
   "outputs": [
    {
     "name": "stdout",
     "output_type": "stream",
     "text": [
      "<class 'int'>\n",
      "<class 'int'>\n",
      "<class 'int'>\n",
      "<class 'int'>\n",
      "<class 'int'>\n"
     ]
    }
   ],
   "source": [
    "for i in range(0, len(array_list)):    \n",
    "    print(type(i))    "
   ]
  },
  {
   "cell_type": "code",
   "execution_count": 39,
   "id": "0f3363ac-e97b-4e6e-a516-a404700fd3e0",
   "metadata": {},
   "outputs": [
    {
     "name": "stdout",
     "output_type": "stream",
     "text": [
      "[[<class 'str'>, <class 'str'>, <class 'str'>, <class 'str'>, <class 'str'>]]\n"
     ]
    }
   ],
   "source": [
    "iterable=[type(i) for i in list_]\n",
    "print([iterable])"
   ]
  },
  {
   "cell_type": "code",
   "execution_count": 40,
   "id": "7dedac70-4e6f-497d-b5cd-c24c02227485",
   "metadata": {},
   "outputs": [],
   "source": [
    "## Q No. 4 :\n",
    "import numpy as np\n",
    "num_list = [ [ 1 , 2 , 3 ] , [ 4 , 5 , 6 ] ]\n",
    "num_array = np.array(object = num_list)"
   ]
  },
  {
   "cell_type": "code",
   "execution_count": 47,
   "id": "a47b8492-911f-492c-b431-68174ab7e684",
   "metadata": {},
   "outputs": [
    {
     "data": {
      "text/plain": [
       "(2, 3)"
      ]
     },
     "execution_count": 47,
     "metadata": {},
     "output_type": "execute_result"
    }
   ],
   "source": [
    "np.shape(num_list)"
   ]
  },
  {
   "cell_type": "code",
   "execution_count": 48,
   "id": "cd26be85-b841-44a8-a8e8-de07085b4e11",
   "metadata": {},
   "outputs": [
    {
     "data": {
      "text/plain": [
       "(2, 3)"
      ]
     },
     "execution_count": 48,
     "metadata": {},
     "output_type": "execute_result"
    }
   ],
   "source": [
    "num_array.shape"
   ]
  },
  {
   "cell_type": "code",
   "execution_count": 49,
   "id": "c4e184f0-85fe-4ed8-8dbe-5f3c8404348a",
   "metadata": {},
   "outputs": [
    {
     "data": {
      "text/plain": [
       "6"
      ]
     },
     "execution_count": 49,
     "metadata": {},
     "output_type": "execute_result"
    }
   ],
   "source": [
    "np.size(num_list)"
   ]
  },
  {
   "cell_type": "code",
   "execution_count": 50,
   "id": "5948167c-7d17-49c4-8576-fc734b7d52e8",
   "metadata": {},
   "outputs": [
    {
     "data": {
      "text/plain": [
       "6"
      ]
     },
     "execution_count": 50,
     "metadata": {},
     "output_type": "execute_result"
    }
   ],
   "source": [
    "num_array.size"
   ]
  },
  {
   "cell_type": "code",
   "execution_count": 53,
   "id": "322bddad-ef7e-444d-b630-2b8b3217d15e",
   "metadata": {},
   "outputs": [
    {
     "data": {
      "text/plain": [
       "array([[0., 0., 0.],\n",
       "       [0., 0., 0.],\n",
       "       [0., 0., 0.]])"
      ]
     },
     "execution_count": 53,
     "metadata": {},
     "output_type": "execute_result"
    }
   ],
   "source": [
    "## Q No. 5 :\n",
    "arr=np.zeros((3,3))\n",
    "arr"
   ]
  },
  {
   "cell_type": "code",
   "execution_count": 54,
   "id": "e35c53a5-f912-48bd-aa01-4c7259cae611",
   "metadata": {},
   "outputs": [
    {
     "data": {
      "text/plain": [
       "9"
      ]
     },
     "execution_count": 54,
     "metadata": {},
     "output_type": "execute_result"
    }
   ],
   "source": [
    "arr.size"
   ]
  },
  {
   "cell_type": "code",
   "execution_count": 55,
   "id": "02165602-28ae-4d94-b759-4c901833be6f",
   "metadata": {},
   "outputs": [
    {
     "data": {
      "text/plain": [
       "(3, 3)"
      ]
     },
     "execution_count": 55,
     "metadata": {},
     "output_type": "execute_result"
    }
   ],
   "source": [
    "arr.shape"
   ]
  },
  {
   "cell_type": "code",
   "execution_count": 58,
   "id": "487c462e-1d2e-42e7-96a5-4dd08e21bc53",
   "metadata": {},
   "outputs": [
    {
     "data": {
      "text/plain": [
       "array([[1., 0., 0., 0., 0.],\n",
       "       [0., 1., 0., 0., 0.],\n",
       "       [0., 0., 1., 0., 0.],\n",
       "       [0., 0., 0., 1., 0.],\n",
       "       [0., 0., 0., 0., 1.]])"
      ]
     },
     "execution_count": 58,
     "metadata": {},
     "output_type": "execute_result"
    }
   ],
   "source": [
    "## Q No. 6 :\n",
    "arr1=np.eye(5,5)\n",
    "arr1"
   ]
  },
  {
   "cell_type": "code",
   "execution_count": 59,
   "id": "cc05caf3-6a32-4325-8101-ce31cd2026a7",
   "metadata": {},
   "outputs": [
    {
     "data": {
      "text/plain": [
       "(5, 5)"
      ]
     },
     "execution_count": 59,
     "metadata": {},
     "output_type": "execute_result"
    }
   ],
   "source": [
    "arr1.shape"
   ]
  },
  {
   "cell_type": "code",
   "execution_count": 60,
   "id": "a89131c7-0785-4c7b-bdd7-ffb88552adc6",
   "metadata": {},
   "outputs": [
    {
     "data": {
      "text/plain": [
       "25"
      ]
     },
     "execution_count": 60,
     "metadata": {},
     "output_type": "execute_result"
    }
   ],
   "source": [
    "arr1.size"
   ]
  }
 ],
 "metadata": {
  "kernelspec": {
   "display_name": "Python 3 (ipykernel)",
   "language": "python",
   "name": "python3"
  },
  "language_info": {
   "codemirror_mode": {
    "name": "ipython",
    "version": 3
   },
   "file_extension": ".py",
   "mimetype": "text/x-python",
   "name": "python",
   "nbconvert_exporter": "python",
   "pygments_lexer": "ipython3",
   "version": "3.10.8"
  }
 },
 "nbformat": 4,
 "nbformat_minor": 5
}
